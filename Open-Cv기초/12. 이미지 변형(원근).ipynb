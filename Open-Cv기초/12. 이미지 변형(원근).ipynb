{
 "cells": [
  {
   "cell_type": "markdown",
   "metadata": {},
   "source": [
    "## 이미지 변형(원근)"
   ]
  },
  {
   "cell_type": "markdown",
   "metadata": {},
   "source": [
    "### 사다리꼴 이미지 펼침"
   ]
  },
  {
   "cell_type": "code",
   "execution_count": 4,
   "metadata": {},
   "outputs": [],
   "source": [
    "import cv2\n",
    "import numpy as np\n",
    "\n",
    "img = cv2.imread('newspaper.jpg')\n",
    "\n",
    "\n",
    "width, height = 640,240\n",
    "src = np.array([[511,352], [1008,345], [1122,584], [455,594]], dtype = np.float32) # input 4개 지점\n",
    "dat = np.array([[0,0], [width,0], [width,height], [0,height]], dtype=np.float32) # output 4개 지점\n",
    "# 좌상, 우상, 우하, 좌하(시계 방향으로 4개 지점 정의)\n",
    "\n",
    "matrix = cv2.getPerspectiveTransform(src,dat) # matrix 얻어옴\n",
    "result = cv2.warpPerspective(img, matrix, (width,height)) # matrix에 대한 반환\n",
    "\n",
    "cv2.imshow('img',img)\n",
    "cv2.imshow('result',result)\n",
    "cv2.waitKey(0)\n",
    "cv2.destroyAllWindows()"
   ]
  },
  {
   "cell_type": "markdown",
   "metadata": {},
   "source": [
    "### 회전된 이미지 세우기"
   ]
  },
  {
   "cell_type": "code",
   "execution_count": 6,
   "metadata": {},
   "outputs": [],
   "source": [
    "import cv2\n",
    "import numpy as np\n",
    "\n",
    "img = cv2.imread('poker.jpg')\n",
    "\n",
    "\n",
    "width, height = 640,240\n",
    "src = np.array([[511,352], [1008,345], [1122,584], [455,594]], dtype = np.float32) # input 4개 지점\n",
    "dat = np.array([[0,0], [width,0], [width,height], [0,height]], dtype=np.float32) # output 4개 지점\n",
    "# 좌상, 우상, 우하, 좌하(시계 방향으로 4개 지점 정의)\n",
    "\n",
    "matrix = cv2.getPerspectiveTransform(src,dat) # matrix 얻어옴\n",
    "result = cv2.warpPerspective(img, matrix, (width,height)) # matrix에 대한 반환\n",
    "\n",
    "cv2.imshow('img',img)\n",
    "cv2.imshow('result',result)\n",
    "cv2.waitKey(0)\n",
    "cv2.destroyAllWindows()"
   ]
  },
  {
   "cell_type": "markdown",
   "metadata": {},
   "source": [
    "### 회전된 이미지 올바로 세우기"
   ]
  },
  {
   "cell_type": "code",
   "execution_count": 1,
   "metadata": {},
   "outputs": [],
   "source": [
    "import cv2\n",
    "import numpy as np\n",
    "\n",
    "img = cv2.imread('poker.jpg')\n",
    "\n",
    "\n",
    "width, height = 530,710\n",
    "src = np.array([[702,143], [1133,413], [726,1007], [276,700]], dtype = np.float32) # input 4개 지점\n",
    "dat = np.array([[0,0], [width,0], [width,height], [0,height]], dtype=np.float32) # output 4개 지점\n",
    "# 좌상, 우상, 우하, 좌하(시계 방향으로 4개 지점 정의)\n",
    "\n",
    "matrix = cv2.getPerspectiveTransform(src,dat) # matrix 얻어옴\n",
    "result = cv2.warpPerspective(img, matrix, (width,height)) # matrix에 대한 반환\n",
    "\n",
    "cv2.imshow('img',img)\n",
    "cv2.imshow('result',result)\n",
    "cv2.waitKey(0)\n",
    "cv2.destroyAllWindows()"
   ]
  },
  {
   "cell_type": "markdown",
   "metadata": {},
   "source": [
    "## 미니 프로젝트 : 반자동 문서 스캐너\n"
   ]
  },
  {
   "cell_type": "markdown",
   "metadata": {},
   "source": [
    "### 마우스 이벤트 등록"
   ]
  },
  {
   "cell_type": "code",
   "execution_count": 11,
   "metadata": {},
   "outputs": [
    {
     "name": "stdout",
     "output_type": "stream",
     "text": [
      "왼쪽 버튼 down\n",
      "328 56\n",
      "왼쪽 버튼 UP\n",
      "567 201\n",
      "왼쪽 버튼 down\n",
      "385 137\n",
      "왼쪽 버튼 UP\n",
      "385 137\n",
      "왼쪽 버튼 Double Click\n",
      "왼쪽 버튼 UP\n",
      "385 137\n",
      "오른쪽 버튼 Down\n"
     ]
    }
   ],
   "source": [
    "import cv2\n",
    "\n",
    "def mouse_handler(event,x,y,flags,params):\n",
    "    if event == cv2.EVENT_LBUTTONDOWN: # 마우스 왼쪽 버튼 누름\n",
    "        print('왼쪽 버튼 down')\n",
    "        print(x,y)\n",
    "        \n",
    "    elif event == cv2.EVENT_LBUTTONUP: # 마우스 왼쪽 버튼 UP\n",
    "        print('왼쪽 버튼 UP')\n",
    "        print(x,y)\n",
    "        \n",
    "    elif event == cv2.EVENT_LBUTTONDBLCLK: # 마우스 왼쪽 버튼 더블클릭\n",
    "        print('왼쪽 버튼 Double Click')\n",
    "        \n",
    "    #elif event == cv2.EVENT_MOUSEMOVE:\n",
    "        #print('마우스 이동')\n",
    "        \n",
    "    elif event == cv2.EVENT_RBUTTONDOWN:\n",
    "        print('오른쪽 버튼 Down')\n",
    "\n",
    "img = cv2.imread('poker.jpg')\n",
    "cv2.namedWindow('img') #img란 이름의 윈도우를 먼저 만들어 두는 것, 여기에 마우스 이벤트를 처리하기 위한 핸들러 적용\n",
    "cv2.setMouseCallback('img',mouse_handler)\n",
    "\n",
    "cv2.imshow('img',img)\n",
    "cv2.waitKey(0)\n",
    "cv2.destroyAllWindows()"
   ]
  },
  {
   "cell_type": "markdown",
   "metadata": {},
   "source": [
    "### 프로젝트"
   ]
  },
  {
   "cell_type": "code",
   "execution_count": 24,
   "metadata": {},
   "outputs": [],
   "source": [
    "import cv2\n",
    "import numpy as np\n",
    "\n",
    "point_list = []\n",
    "src_img = cv2.imread('poker.jpg')\n",
    "\n",
    "COLOR = (255,0,255)\n",
    "THICKNESS = 3\n",
    "drawing = False # 선을 그릴지 여부를 판단\n",
    "\n",
    "def mouse_handler(event,x,y,flags,params):\n",
    "    global drawing\n",
    "    dst_img = src_img.copy()\n",
    "    \n",
    "    \n",
    "    if event == cv2.EVENT_LBUTTONDOWN: # 마우스 왼쪽 버튼 누름\n",
    "        drawing = True # 선을 그리기 시작\n",
    "        point_list.append((x, y))\n",
    "        \n",
    "    \n",
    "    if drawing:\n",
    "        prev_point = None # 직선의 시작점    \n",
    "        for point in point_list:\n",
    "            cv2.circle(dst_img, point, 15, COLOR, cv2.FILLED)\n",
    "            if prev_point:\n",
    "                cv2.line(dst_img, prev_point, point, COLOR, THICKNESS, cv2.LINE_AA)\n",
    "            prev_point = point\n",
    "            \n",
    "        next_point = (x,y)\n",
    "        if len(point_list) == 4:\n",
    "           show_result() # 결과 출력\n",
    "           next_point = point_list[0]\n",
    "        cv2.line(dst_img, prev_point, next_point, COLOR, THICKNESS, cv2.LINE_AA)\n",
    "            \n",
    "        \n",
    "        \n",
    "    cv2.imshow('img',dst_img)\n",
    "    \n",
    "def show_result():\n",
    "    width, height = 530,710\n",
    "    src = np.float32(point_list)\n",
    "    dat = np.array([[0,0], [width,0], [width,height], [0,height]], dtype=np.float32) # output 4개 지점\n",
    "    # 좌상, 우상, 우하, 좌하(시계 방향으로 4개 지점 정의)\n",
    "\n",
    "    matrix = cv2.getPerspectiveTransform(src,dat) # matrix 얻어옴\n",
    "    result = cv2.warpPerspective(img, matrix, (width,height)) # matrix에 대한 반환\n",
    "    cv2.imshow('result',result)\n",
    "        \n",
    "        \n",
    "\n",
    "cv2.namedWindow('img') #img란 이름의 윈도우를 먼저 만들어 두는 것, 여기에 마우스 이벤트를 처리하기 위한 핸들러 적용\n",
    "cv2.setMouseCallback('img',mouse_handler)\n",
    "\n",
    "cv2.imshow('img',src_img)\n",
    "cv2.waitKey(0)\n",
    "cv2.destroyAllWindows()"
   ]
  },
  {
   "cell_type": "code",
   "execution_count": null,
   "metadata": {},
   "outputs": [],
   "source": []
  },
  {
   "cell_type": "code",
   "execution_count": null,
   "metadata": {},
   "outputs": [],
   "source": []
  }
 ],
 "metadata": {
  "kernelspec": {
   "display_name": "Python 3.10.5 64-bit (windows store)",
   "language": "python",
   "name": "python3"
  },
  "language_info": {
   "codemirror_mode": {
    "name": "ipython",
    "version": 3
   },
   "file_extension": ".py",
   "mimetype": "text/x-python",
   "name": "python",
   "nbconvert_exporter": "python",
   "pygments_lexer": "ipython3",
   "version": "3.10.5"
  },
  "orig_nbformat": 4,
  "vscode": {
   "interpreter": {
    "hash": "29a5d830ee5eb5eabdb10511c29aaced43bbb583532fb9ecb44e50060afee3b8"
   }
  }
 },
 "nbformat": 4,
 "nbformat_minor": 2
}
