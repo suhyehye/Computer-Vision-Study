{
 "cells": [
  {
   "cell_type": "markdown",
   "metadata": {},
   "source": [
    "## 4. 텍스트"
   ]
  },
  {
   "cell_type": "markdown",
   "metadata": {},
   "source": [
    "### OpenCV에서 사용하는 글꼴 종류\n",
    "1. cv2.FONT_HERSHEY_SIMPLEX : 보통 크기의 산 셰리프 글꼴\n",
    "2. cv2.FONT_HERSHEY_PLAIN : 작은 크기의 산 셰리프\n",
    "3. cv2.FONT_SCRIPT_SIMPLEX : 필체 스타일 글꼴\n",
    "4. cv2.HERSHEY_TRIPLEX : 보통 크기의 세리프 글꼴\n",
    "5. cv2.FONT_ITALIC : 기울임(이탈릭체)"
   ]
  },
  {
   "cell_type": "code",
   "execution_count": 3,
   "metadata": {},
   "outputs": [],
   "source": [
    "import cv2\n",
    "import numpy as np\n",
    "\n",
    "img = np.zeros((480,640,3), dtype=np.uint8)\n",
    "\n",
    "SCALE = 1\n",
    "COLOR = (255,255,255)\n",
    "THICKNESS = 1\n",
    "\n",
    "\n",
    "cv2.putText(img, \"Hello\", (20,50),cv2.FONT_HERSHEY_SIMPLEX,SCALE, COLOR, THICKNESS)\n",
    "# 그릴 위치, 텍스트 내용, 시작 위치, 폰트 종류, 크기, 색깔, 두께\n",
    "\n",
    "cv2.putText(img, \"Hello\", (20,150),cv2.FONT_HERSHEY_PLAIN,SCALE, COLOR, THICKNESS)\n",
    "cv2.putText(img, \"Hello\", (20,250),cv2.FONT_HERSHEY_SCRIPT_SIMPLEX,SCALE, COLOR, THICKNESS)\n",
    "cv2.putText(img, \"Hello\", (20,350),cv2.FONT_HERSHEY_TRIPLEX,SCALE, COLOR, THICKNESS)\n",
    "cv2.putText(img, \"Hello\", (20,450),cv2.FONT_HERSHEY_TRIPLEX | cv2.FONT_ITALIC,SCALE, COLOR, THICKNESS)\n",
    "\n",
    "\n",
    "cv2.imshow('img',img)\n",
    "cv2.waitKey(0)\n",
    "cv2.destroyAllWindows()"
   ]
  },
  {
   "cell_type": "markdown",
   "metadata": {},
   "source": [
    "### 한글"
   ]
  },
  {
   "cell_type": "code",
   "execution_count": 4,
   "metadata": {},
   "outputs": [],
   "source": [
    "import cv2\n",
    "import numpy as np\n",
    "\n",
    "img = np.zeros((480,640,3), dtype=np.uint8)\n",
    "\n",
    "SCALE = 1\n",
    "COLOR = (255,255,255)\n",
    "THICKNESS = 1\n",
    "\n",
    "\n",
    "cv2.putText(img, \"안녕하세요\", (20,50),cv2.FONT_HERSHEY_SIMPLEX,SCALE, COLOR, THICKNESS)\n",
    "# 그릴 위치, 텍스트 내용, 시작 위치, 폰트 종류, 크기, 색깔, 두께\n",
    "\n",
    "\n",
    "\n",
    "\n",
    "cv2.imshow('img',img)\n",
    "cv2.waitKey(0)\n",
    "cv2.destroyAllWindows()"
   ]
  },
  {
   "cell_type": "markdown",
   "metadata": {},
   "source": [
    "### 한글 우회 방법"
   ]
  },
  {
   "cell_type": "code",
   "execution_count": 10,
   "metadata": {},
   "outputs": [],
   "source": [
    "import cv2\n",
    "import numpy as np\n",
    "from PIL import ImageFont, ImageDraw, Image\n",
    "\n",
    "def myPutText(src,text,pos,font_size,font_color):\n",
    "    img_pil = Image.fromarray(src)\n",
    "    draw = ImageDraw.Draw(img_pil)\n",
    "    font = ImageFont.truetype('fonts/gulim.ttc',font_size)\n",
    "    draw.text(pos,text,font=font,fill=font_color)\n",
    "    return np.array(img_pil)\n",
    "\n",
    "img = np.zeros((480,640,3), dtype=np.uint8)\n",
    "\n",
    "FONT_SIZE = 30\n",
    "COLOR = (255,255,255)\n",
    "\n",
    "\n",
    "img = myPutText(img,'안녕하세요',(20,50),FONT_SIZE, COLOR)\n",
    "# 그릴 위치, 텍스트 내용, 시작 위치, 폰트 종류, 크기, 색깔, 두께\n",
    "\n",
    "\n",
    "\n",
    "\n",
    "cv2.imshow('img',img)\n",
    "cv2.waitKey(0)\n",
    "cv2.destroyAllWindows()"
   ]
  },
  {
   "cell_type": "code",
   "execution_count": null,
   "metadata": {},
   "outputs": [],
   "source": []
  }
 ],
 "metadata": {
  "kernelspec": {
   "display_name": "Python 3.10.5 64-bit (windows store)",
   "language": "python",
   "name": "python3"
  },
  "language_info": {
   "codemirror_mode": {
    "name": "ipython",
    "version": 3
   },
   "file_extension": ".py",
   "mimetype": "text/x-python",
   "name": "python",
   "nbconvert_exporter": "python",
   "pygments_lexer": "ipython3",
   "version": "3.10.5"
  },
  "orig_nbformat": 4,
  "vscode": {
   "interpreter": {
    "hash": "29a5d830ee5eb5eabdb10511c29aaced43bbb583532fb9ecb44e50060afee3b8"
   }
  }
 },
 "nbformat": 4,
 "nbformat_minor": 2
}
