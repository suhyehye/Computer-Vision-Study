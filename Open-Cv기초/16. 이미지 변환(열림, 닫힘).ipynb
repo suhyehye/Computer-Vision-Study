{
 "cells": [
  {
   "cell_type": "markdown",
   "metadata": {},
   "source": [
    "## 이미지 변환(열림, 닫힘)"
   ]
  },
  {
   "cell_type": "markdown",
   "metadata": {},
   "source": [
    "### 열림(Opening) : 침식 후 팽창 깎아서 노이즈 제거 후 살 찌움\n",
    "dialte(erode(img))"
   ]
  },
  {
   "cell_type": "code",
   "execution_count": 2,
   "metadata": {},
   "outputs": [],
   "source": [
    "import cv2\n",
    "import numpy as np\n",
    "\n",
    "img = cv2.imread('erode.png',cv2.IMREAD_GRAYSCALE)\n",
    "kernel = np.ones((3,3), dtype=np.uint8)\n",
    "\n",
    "erode = cv2.erode(img, kernel,iterations=3)\n",
    "dilate = cv2.dilate(erode, kernel, iterations=3)\n",
    "\n",
    "\n",
    "cv2.imshow('img',img)\n",
    "cv2.imshow('erode',erode)\n",
    "cv2.imshow('dilate',dilate)\n",
    "\n",
    "cv2.waitKey(0)\n",
    "cv2.destroyAllWindows()"
   ]
  },
  {
   "cell_type": "markdown",
   "metadata": {},
   "source": [
    "### 닫힘(Closing) : 팽창 후 침식, 구멍을 메운 다음 다시 깎음\n",
    "dilate(erode(img))"
   ]
  },
  {
   "cell_type": "code",
   "execution_count": 4,
   "metadata": {},
   "outputs": [],
   "source": [
    "import cv2\n",
    "import numpy as np\n",
    "\n",
    "img = cv2.imread('dilate.png',cv2.IMREAD_GRAYSCALE)\n",
    "kernel = np.ones((3,3), dtype=np.uint8)\n",
    "\n",
    "dilate = cv2.dilate(img, kernel, iterations=3)\n",
    "erode = cv2.erode(dilate, kernel,iterations=3)\n",
    "\n",
    "\n",
    "\n",
    "cv2.imshow('img',img)\n",
    "cv2.imshow('erode',erode)\n",
    "cv2.imshow('dilate',dilate)\n",
    "\n",
    "cv2.waitKey(0)\n",
    "cv2.destroyAllWindows()"
   ]
  },
  {
   "cell_type": "code",
   "execution_count": null,
   "metadata": {},
   "outputs": [],
   "source": []
  }
 ],
 "metadata": {
  "kernelspec": {
   "display_name": "Python 3.10.5 64-bit (windows store)",
   "language": "python",
   "name": "python3"
  },
  "language_info": {
   "codemirror_mode": {
    "name": "ipython",
    "version": 3
   },
   "file_extension": ".py",
   "mimetype": "text/x-python",
   "name": "python",
   "nbconvert_exporter": "python",
   "pygments_lexer": "ipython3",
   "version": "3.10.5"
  },
  "orig_nbformat": 4,
  "vscode": {
   "interpreter": {
    "hash": "29a5d830ee5eb5eabdb10511c29aaced43bbb583532fb9ecb44e50060afee3b8"
   }
  }
 },
 "nbformat": 4,
 "nbformat_minor": 2
}
