{
 "cells": [
  {
   "cell_type": "markdown",
   "metadata": {},
   "source": [
    "## Opencv를 이용해 가로로 촬영된 영상을 세로로 회전하는 프로그램 작성"
   ]
  },
  {
   "cell_type": "markdown",
   "metadata": {},
   "source": [
    "### 조건\n",
    "1. 회전 : 시계 반대방향으로 90도\n",
    "2. 재생속도 (FPS) : 원본 4배\n",
    "3. 출력 파일 명 : city_output.avi "
   ]
  },
  {
   "cell_type": "code",
   "execution_count": 5,
   "metadata": {},
   "outputs": [
    {
     "ename": "KeyboardInterrupt",
     "evalue": "",
     "output_type": "error",
     "traceback": [
      "\u001b[1;31m---------------------------------------------------------------------------\u001b[0m",
      "\u001b[1;31mKeyboardInterrupt\u001b[0m                         Traceback (most recent call last)",
      "\u001b[1;32mc:\\Users\\suhye\\.vscode\\computer_vision\\Opencv_나도코딩\\19.Quiz.ipynb Cell 3'\u001b[0m in \u001b[0;36m<cell line: 4>\u001b[1;34m()\u001b[0m\n\u001b[0;32m      <a href='vscode-notebook-cell:/c%3A/Users/suhye/.vscode/computer_vision/Opencv_%EB%82%98%EB%8F%84%EC%BD%94%EB%94%A9/19.Quiz.ipynb#ch0000000?line=1'>2</a>\u001b[0m cap \u001b[39m=\u001b[39m cv2\u001b[39m.\u001b[39mVideoCapture(\u001b[39m'\u001b[39m\u001b[39mcity.mp4\u001b[39m\u001b[39m'\u001b[39m) \n\u001b[0;32m      <a href='vscode-notebook-cell:/c%3A/Users/suhye/.vscode/computer_vision/Opencv_%EB%82%98%EB%8F%84%EC%BD%94%EB%94%A9/19.Quiz.ipynb#ch0000000?line=3'>4</a>\u001b[0m \u001b[39mwhile\u001b[39;00m cap\u001b[39m.\u001b[39misOpened(): \u001b[39m# 동영상 파일이 올바로 열렸는지?\u001b[39;00m\n\u001b[1;32m----> <a href='vscode-notebook-cell:/c%3A/Users/suhye/.vscode/computer_vision/Opencv_%EB%82%98%EB%8F%84%EC%BD%94%EB%94%A9/19.Quiz.ipynb#ch0000000?line=4'>5</a>\u001b[0m     ret, frame \u001b[39m=\u001b[39m cap\u001b[39m.\u001b[39;49mread() \u001b[39m#ret : 성공 여부, frame : 받아온 이미지(프레임)\u001b[39;00m\n\u001b[0;32m      <a href='vscode-notebook-cell:/c%3A/Users/suhye/.vscode/computer_vision/Opencv_%EB%82%98%EB%8F%84%EC%BD%94%EB%94%A9/19.Quiz.ipynb#ch0000000?line=5'>6</a>\u001b[0m     \u001b[39mif\u001b[39;00m \u001b[39mnot\u001b[39;00m ret: \n\u001b[0;32m      <a href='vscode-notebook-cell:/c%3A/Users/suhye/.vscode/computer_vision/Opencv_%EB%82%98%EB%8F%84%EC%BD%94%EB%94%A9/19.Quiz.ipynb#ch0000000?line=6'>7</a>\u001b[0m         \u001b[39mbreak\u001b[39;00m\n",
      "\u001b[1;31mKeyboardInterrupt\u001b[0m: "
     ]
    }
   ],
   "source": [
    "import cv2\n",
    "cap = cv2.VideoCapture('city.mp4') \n",
    "\n",
    "while cap.isOpened(): # 동영상 파일이 올바로 열렸는지?\n",
    "    ret, frame = cap.read() #ret : 성공 여부, frame : 받아온 이미지(프레임)\n",
    "    if not ret: \n",
    "        break\n",
    "    \n",
    "    rotate_90 = cv2.rotate(frame, cv2.ROTATE_90_COUNTERCLOCKWISE)\n",
    "    #cv2.imshow('video',rotate_90)\n",
    "    \n",
    "    if cv2.waitKey(4) == ord('q'):\n",
    "        break\n",
    "    \n",
    "cap.release() #자원 해제\n",
    "cv2.destroyAllWindows() # 모든 창 닫기\n",
    "cv2.imwrite('city_output.avi',rotate_90)"
   ]
  },
  {
   "cell_type": "code",
   "execution_count": 9,
   "metadata": {},
   "outputs": [],
   "source": [
    "import cv2\n",
    "cap = cv2.VideoCapture('city.mp4')\n",
    "\n",
    "#코덱 정의\n",
    "fourcc = cv2.VideoWriter_fourcc(*'DIVX') # *은 한칸씩 떨어뜨려서 반환\n",
    "\n",
    "width = round(cap.get(cv2.CAP_PROP_FRAME_WIDTH))\n",
    "height = round(cap.get(cv2.CAP_PROP_FRAME_HEIGHT))\n",
    "fps = cap.get(cv2.CAP_PROP_FPS) *4 # 영상 속도가 두배\n",
    "\n",
    "out = cv2.VideoWriter('city_output.avi',fourcc, fps, (width,height))\n",
    "#저장 파일명, 코덱, FPS, 크기(width, height)\n",
    "\n",
    "\n",
    "while cap.isOpened():\n",
    "    ret, frame = cap.read()\n",
    "    if not ret:\n",
    "        break\n",
    "    \n",
    "    #rotate_90 = cv2.rotate(frame, cv2.ROTATE_90_COUNTERCLOCKWISE)\n",
    "    out.write(frame) # 영상 데이터만 저장 (소리 X)\n",
    "    \n",
    "    cv2.imshow('video',frame)\n",
    "    if cv2.waitKey(1) == ord('q'):\n",
    "        break\n",
    "\n",
    "out.release()    \n",
    "cap.release()\n",
    "cv2.destroyAllWindows()"
   ]
  },
  {
   "cell_type": "code",
   "execution_count": 13,
   "metadata": {},
   "outputs": [],
   "source": [
    "import cv2\n",
    "cap = cv2.VideoCapture('city.mp4')\n",
    "\n",
    "#코덱 정의\n",
    "fourcc = cv2.VideoWriter_fourcc(*'DIVX') # *은 한칸씩 떨어뜨려서 반환\n",
    "\n",
    "width = round(cap.get(cv2.CAP_PROP_FRAME_WIDTH))\n",
    "height = round(cap.get(cv2.CAP_PROP_FRAME_HEIGHT))\n",
    "fps = cap.get(cv2.CAP_PROP_FPS) *4 # 영상 속도가 두배\n",
    "\n",
    "out = cv2.VideoWriter('city_output.avi',fourcc, fps, (height,width))\n",
    "#저장 파일명, 코덱, FPS, 크기(width, height)\n",
    "\n",
    "\n",
    "while cap.isOpened():\n",
    "    ret, frame = cap.read()\n",
    "    if not ret:\n",
    "        break\n",
    "    \n",
    "    \n",
    "    rotate_90 = cv2.rotate(frame, cv2.ROTATE_90_COUNTERCLOCKWISE)\n",
    "    out.write(rotate_90)\n",
    "    cv2.imshow('video',frame)\n",
    "    if cv2.waitKey(1) == ord('q'):\n",
    "        break\n",
    "\n",
    "out.release()    \n",
    "cap.release()\n",
    "cv2.destroyAllWindows()"
   ]
  },
  {
   "cell_type": "code",
   "execution_count": null,
   "metadata": {},
   "outputs": [],
   "source": []
  }
 ],
 "metadata": {
  "kernelspec": {
   "display_name": "Python 3.10.5 64-bit (windows store)",
   "language": "python",
   "name": "python3"
  },
  "language_info": {
   "codemirror_mode": {
    "name": "ipython",
    "version": 3
   },
   "file_extension": ".py",
   "mimetype": "text/x-python",
   "name": "python",
   "nbconvert_exporter": "python",
   "pygments_lexer": "ipython3",
   "version": "3.10.5"
  },
  "orig_nbformat": 4,
  "vscode": {
   "interpreter": {
    "hash": "29a5d830ee5eb5eabdb10511c29aaced43bbb583532fb9ecb44e50060afee3b8"
   }
  }
 },
 "nbformat": 4,
 "nbformat_minor": 2
}
