{
 "cells": [
  {
   "cell_type": "markdown",
   "metadata": {},
   "source": [
    "## 이미지 변형(흐림)"
   ]
  },
  {
   "cell_type": "markdown",
   "metadata": {},
   "source": [
    "### 가우시안 블러"
   ]
  },
  {
   "cell_type": "markdown",
   "metadata": {},
   "source": [
    "커널 사이즈 변화에 따른 흐림"
   ]
  },
  {
   "cell_type": "code",
   "execution_count": 1,
   "metadata": {},
   "outputs": [],
   "source": [
    "import cv2\n",
    "img = cv2.imread('img.jpg')\n",
    "\n",
    "# (3,3),(5,5),(7,7)\n",
    "kernel_3 = cv2.GaussianBlur(img,(3,3),0)\n",
    "kernel_5 = cv2.GaussianBlur(img,(5,5),0)\n",
    "kernel_7 = cv2.GaussianBlur(img,(7,7),0)\n",
    "\n",
    "\n",
    "cv2.imshow('img',img)\n",
    "cv2.imshow('kernel_3',kernel_3)\n",
    "cv2.imshow('kernel_5',kernel_5)\n",
    "cv2.imshow('kernel_7',kernel_7)\n",
    "cv2.waitKey(0)\n",
    "cv2.destroyAllWindows()"
   ]
  },
  {
   "cell_type": "markdown",
   "metadata": {},
   "source": [
    "표준편차 변화에 따른 흐림"
   ]
  },
  {
   "cell_type": "code",
   "execution_count": 2,
   "metadata": {},
   "outputs": [],
   "source": [
    "import cv2\n",
    "img = cv2.imread('img.jpg')\n",
    "\n",
    "# (3,3),(5,5),(7,7)\n",
    "sigma_1 = cv2.GaussianBlur(img,(0,0),1) # sigmaX - 가우시안 커널의 x 방향의 표준 편차\n",
    "sigma_2 = cv2.GaussianBlur(img,(0,0),2)\n",
    "sigma_3 = cv2.GaussianBlur(img,(0,0),3)\n",
    "\n",
    "\n",
    "cv2.imshow('img',img)\n",
    "cv2.imshow('sigma_1',sigma_1)\n",
    "cv2.imshow('sigma_2',sigma_2)\n",
    "cv2.imshow('sigma_3',sigma_3)\n",
    "cv2.waitKey(0)\n",
    "cv2.destroyAllWindows()"
   ]
  },
  {
   "cell_type": "code",
   "execution_count": null,
   "metadata": {},
   "outputs": [],
   "source": []
  }
 ],
 "metadata": {
  "kernelspec": {
   "display_name": "Python 3.10.5 64-bit (windows store)",
   "language": "python",
   "name": "python3"
  },
  "language_info": {
   "codemirror_mode": {
    "name": "ipython",
    "version": 3
   },
   "file_extension": ".py",
   "mimetype": "text/x-python",
   "name": "python",
   "nbconvert_exporter": "python",
   "pygments_lexer": "ipython3",
   "version": "3.10.5"
  },
  "orig_nbformat": 4,
  "vscode": {
   "interpreter": {
    "hash": "29a5d830ee5eb5eabdb10511c29aaced43bbb583532fb9ecb44e50060afee3b8"
   }
  }
 },
 "nbformat": 4,
 "nbformat_minor": 2
}
