{
 "cells": [
  {
   "cell_type": "markdown",
   "metadata": {},
   "source": [
    "## 3. 도형 그리기"
   ]
  },
  {
   "cell_type": "markdown",
   "metadata": {},
   "source": [
    "### 빈 스케치북 그리기"
   ]
  },
  {
   "cell_type": "code",
   "execution_count": 8,
   "metadata": {},
   "outputs": [],
   "source": [
    "import cv2\n",
    "import numpy as np\n",
    "\n",
    "# 세로 46 * 가로 640, 3 Channel(RGB)에 해당하는 스케치북\n",
    "img = np.zeros((460,640,3), dtype = np.uint8)\n",
    "# img[:] = (255,255,255) # 전체 공간 흰색으로 채우기\n",
    "# print(img)\n",
    "\n",
    "cv2.imshow('img',img)\n",
    "cv2.waitKey(0)\n",
    "cv2.destroyAllWindows()"
   ]
  },
  {
   "cell_type": "markdown",
   "metadata": {},
   "source": [
    "### 일부 영역 색칠"
   ]
  },
  {
   "cell_type": "code",
   "execution_count": 10,
   "metadata": {},
   "outputs": [],
   "source": [
    "import cv2\n",
    "import numpy as np\n",
    "\n",
    "# 세로 46 * 가로 640, 3 Channel(RGB)에 해당하는 스케치북\n",
    "img = np.zeros((460,640,3), dtype = np.uint8)\n",
    "img[100:200,200:300] = (255,255,255)\n",
    "#세로 영역, 가로영역\n",
    "\n",
    "cv2.imshow('img',img)\n",
    "cv2.waitKey(0)\n",
    "cv2.destroyAllWindows()"
   ]
  },
  {
   "cell_type": "markdown",
   "metadata": {},
   "source": [
    "### 직선 그리기\n",
    "직선의 종류(line type)\n",
    "\n",
    "1. cv2.LINE_4 : 상하좌우 4방향으로 연결된 선\n",
    "2. cv2.LINE_8 : 대각선 포함한 8방향으로 연결된 선(기본값)\n",
    "3. cv2.LINE_AA :  부드러운 선(anti-aliasing)"
   ]
  },
  {
   "cell_type": "code",
   "execution_count": 13,
   "metadata": {},
   "outputs": [],
   "source": [
    "import cv2\n",
    "import numpy as np\n",
    "\n",
    "# 세로 46 * 가로 640, 3 Channel(RGB)에 해당하는 스케치북\n",
    "img = np.zeros((460,640,3), dtype = np.uint8)\n",
    "\n",
    "COLOR = (0,255,255) #BGR : yellow\n",
    "THICKNESS = 3 #두께\n",
    "\n",
    "cv2.line(img,(50,100),(400,50),COLOR,THICKNESS,cv2.LINE_8)\n",
    "cv2.line(img,(50,200),(400,150),COLOR,THICKNESS,cv2.LINE_4)\n",
    "cv2.line(img,(50,300),(400,250),COLOR,THICKNESS,cv2.LINE_AA)\n",
    "# 그림 위치, 시작점, 끝 점, 색깔 두께, 선 종류\n",
    "\n",
    "\n",
    "cv2.imshow('img',img)\n",
    "cv2.waitKey(0)\n",
    "cv2.destroyAllWindows()"
   ]
  },
  {
   "cell_type": "markdown",
   "metadata": {},
   "source": [
    "### 원"
   ]
  },
  {
   "cell_type": "code",
   "execution_count": 16,
   "metadata": {},
   "outputs": [],
   "source": [
    "import cv2\n",
    "import numpy as np\n",
    "\n",
    "# 세로 46 * 가로 640, 3 Channel(RGB)에 해당하는 스케치북\n",
    "img = np.zeros((460,640,3), dtype = np.uint8)\n",
    "\n",
    "COLOR = (255,255,0) #BGR : 옥색\n",
    "RADIUS = 50 # 반지름\n",
    "THICKNESS = 10 #두께\n",
    "\n",
    "cv2.circle(img,(200,100),RADIUS,COLOR,THICKNESS,cv2.LINE_AA) # 속이 빈 원\n",
    "# 그릴 위치, 원의 중심, 반지름, 색깔, 두께, 선 종류\n",
    "\n",
    "cv2.circle(img,(400,100),RADIUS,COLOR,cv2.FILLED,cv2.LINE_AA) # 속이 꽉 찬 원\n",
    "\n",
    "\n",
    "cv2.imshow('img',img)\n",
    "cv2.waitKey(0)\n",
    "cv2.destroyAllWindows()"
   ]
  },
  {
   "cell_type": "markdown",
   "metadata": {},
   "source": [
    "### 사각형"
   ]
  },
  {
   "cell_type": "code",
   "execution_count": 18,
   "metadata": {},
   "outputs": [],
   "source": [
    "import cv2\n",
    "import numpy as np\n",
    "\n",
    "# 세로 46 * 가로 640, 3 Channel(RGB)에 해당하는 스케치북\n",
    "img = np.zeros((460,640,3), dtype = np.uint8)\n",
    "\n",
    "COLOR = (0,255,0) #BGR : 초록색\n",
    "THICKNESS = 3 #두께\n",
    "\n",
    "cv2.rectangle(img,(100,100),(200,200),COLOR,THICKNESS) # 속이 빈 사각형\n",
    "# 그릴 위치, 왼쪽 위, 오른쪽 아래, 색깔, 두께\n",
    "cv2.rectangle(img,(300,100),(400,300),COLOR,cv2.FILLED) # 속이 빈 사각형\n",
    "\n",
    "\n",
    "\n",
    "cv2.imshow('img',img)\n",
    "cv2.waitKey(0)\n",
    "cv2.destroyAllWindows()"
   ]
  },
  {
   "cell_type": "markdown",
   "metadata": {},
   "source": [
    "### 다각형"
   ]
  },
  {
   "cell_type": "code",
   "execution_count": 25,
   "metadata": {},
   "outputs": [],
   "source": [
    "import cv2\n",
    "import numpy as np\n",
    "\n",
    "# 세로 46 * 가로 640, 3 Channel(RGB)에 해당하는 스케치북\n",
    "img = np.zeros((460,640,3), dtype = np.uint8)\n",
    "\n",
    "COLOR = (0,0,255) #BGR : 빨간색\n",
    "THICKNESS = 3 #두께\n",
    "\n",
    "pts1 = np.array([[100,100] , [200,100], [100,200]])\n",
    "pts2 = np.array([[200,100], [300,100], [300,200]])\n",
    "\n",
    "#cv2.polylines(img, [pts1], True, COLOR,THICKNESS, cv2.LINE_AA)\n",
    "#cv2.polylines(img, [pts2], True, COLOR,THICKNESS, cv2.LINE_AA)\n",
    "cv2.polylines(img, [pts1,pts2], True, COLOR,THICKNESS, cv2.LINE_AA) # 속이 빈 다각형\n",
    "# 그릴 위치, 그릴 좌표들, 닫힘 여부, 색깔, 두께, 선 종류\n",
    "\n",
    "pts3 = np.array([[[100,300], [200,300], [100,400]], [[200,300], [300,300], [300,400]]])\n",
    "cv2.fillPoly(img, pts3, COLOR, cv2.LINE_AA) # 꽉 찬 다각형\n",
    "# 그릴 위치, 그릴 다각형, 색깔, 선 종류\n",
    "\n",
    "\n",
    "cv2.imshow('img',img)\n",
    "cv2.waitKey(0)\n",
    "cv2.destroyAllWindows()"
   ]
  },
  {
   "cell_type": "code",
   "execution_count": null,
   "metadata": {},
   "outputs": [],
   "source": []
  }
 ],
 "metadata": {
  "kernelspec": {
   "display_name": "Python 3.10.5 64-bit (windows store)",
   "language": "python",
   "name": "python3"
  },
  "language_info": {
   "codemirror_mode": {
    "name": "ipython",
    "version": 3
   },
   "file_extension": ".py",
   "mimetype": "text/x-python",
   "name": "python",
   "nbconvert_exporter": "python",
   "pygments_lexer": "ipython3",
   "version": "3.10.5"
  },
  "orig_nbformat": 4,
  "vscode": {
   "interpreter": {
    "hash": "29a5d830ee5eb5eabdb10511c29aaced43bbb583532fb9ecb44e50060afee3b8"
   }
  }
 },
 "nbformat": 4,
 "nbformat_minor": 2
}
