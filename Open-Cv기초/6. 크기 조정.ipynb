{
 "cells": [
  {
   "cell_type": "markdown",
   "metadata": {},
   "source": [
    "## 크기 조정"
   ]
  },
  {
   "cell_type": "markdown",
   "metadata": {},
   "source": [
    "### 이미지\n",
    "고정 크기로 설정"
   ]
  },
  {
   "cell_type": "code",
   "execution_count": 1,
   "metadata": {},
   "outputs": [],
   "source": [
    "import cv2 \n",
    "img = cv2.imread('img.jpg')\n",
    "\n",
    "dst = cv2.resize(img, (400,500)) # width, height 고정 크기\n",
    "\n",
    "cv2.imshow('img',img)\n",
    "cv2.imshow('resize',dst)\n",
    "\n",
    "cv2.waitKey(0)\n",
    "cv2.destroyAllWindows()"
   ]
  },
  {
   "cell_type": "markdown",
   "metadata": {},
   "source": [
    "비율로 설정"
   ]
  },
  {
   "cell_type": "code",
   "execution_count": 2,
   "metadata": {},
   "outputs": [],
   "source": [
    "import cv2 \n",
    "img = cv2.imread('img.jpg')\n",
    "\n",
    "dst = cv2.resize(img, None, fx = 0.5, fy=0.5) # x,y 비율 정의(0.5배로 축소)\n",
    "\n",
    "cv2.imshow('img',img)\n",
    "cv2.imshow('resize',dst)\n",
    "\n",
    "cv2.waitKey(0)\n",
    "cv2.destroyAllWindows()"
   ]
  },
  {
   "cell_type": "markdown",
   "metadata": {},
   "source": [
    "### 보간법\n",
    "1. cv2.INTER_AREA : 크기 줄일 때 사용\n",
    "2. cv2.INTER_CUBIC : 크기 늘릴 때 (속도 느림, 퀄리티 좋음)\n",
    "3. cv2.INTER_LINEAR : 크기 늘릴 때 (기본값)"
   ]
  },
  {
   "cell_type": "markdown",
   "metadata": {},
   "source": [
    "보간법 적용하여 축소"
   ]
  },
  {
   "cell_type": "code",
   "execution_count": 3,
   "metadata": {},
   "outputs": [],
   "source": [
    "import cv2 \n",
    "img = cv2.imread('img.jpg')\n",
    "\n",
    "dst = cv2.resize(img, None, fx = 0.5, fy=0.5, interpolation=cv2.INTER_AREA) # width, height 고정 크기\n",
    "\n",
    "cv2.imshow('img',img)\n",
    "cv2.imshow('resize',dst)\n",
    "\n",
    "cv2.waitKey(0)\n",
    "cv2.destroyAllWindows()"
   ]
  },
  {
   "cell_type": "code",
   "execution_count": 4,
   "metadata": {},
   "outputs": [],
   "source": [
    "import cv2 \n",
    "img = cv2.imread('img.jpg')\n",
    "\n",
    "dst = cv2.resize(img, None, fx = 1.5, fy=1.5, interpolation=cv2.INTER_CUBIC) # width, height 고정 크기\n",
    "\n",
    "cv2.imshow('img',img)\n",
    "cv2.imshow('resize',dst)\n",
    "\n",
    "cv2.waitKey(0)\n",
    "cv2.destroyAllWindows()"
   ]
  },
  {
   "cell_type": "markdown",
   "metadata": {},
   "source": [
    "## 동영상 크기 조정"
   ]
  },
  {
   "cell_type": "markdown",
   "metadata": {},
   "source": [
    "고정 크기로 설정"
   ]
  },
  {
   "cell_type": "code",
   "execution_count": 6,
   "metadata": {},
   "outputs": [],
   "source": [
    "cap = cv2.VideoCapture('video.mp4')\n",
    "\n",
    "while cap.isOpened():\n",
    "    ret, frame = cap.read()\n",
    "    if not ret:\n",
    "        break\n",
    "    \n",
    "    frame_resized = cv2.resize(frame,(400,500))\n",
    "    \n",
    "    cv2.imshow('video',frame_resized)\n",
    "    if cv2.waitKey(1) == ord('q'):\n",
    "        break\n",
    "    \n",
    "cap.release()\n",
    "cv2.destroyAllWindows()"
   ]
  },
  {
   "cell_type": "markdown",
   "metadata": {},
   "source": [
    "비율로 설정"
   ]
  },
  {
   "cell_type": "code",
   "execution_count": 7,
   "metadata": {},
   "outputs": [],
   "source": [
    "cap = cv2.VideoCapture('video.mp4')\n",
    "\n",
    "while cap.isOpened():\n",
    "    ret, frame = cap.read()\n",
    "    if not ret:\n",
    "        break\n",
    "    \n",
    "    frame_resized = cv2.resize(frame,None, fx=1.5, fy=1.5, interpolation=cv2.INTER_CUBIC)\n",
    "    \n",
    "    cv2.imshow('video',frame_resized)\n",
    "    if cv2.waitKey(1) == ord('q'):\n",
    "        break\n",
    "    \n",
    "cap.release()\n",
    "cv2.destroyAllWindows()"
   ]
  }
 ],
 "metadata": {
  "kernelspec": {
   "display_name": "Python 3.10.5 64-bit (windows store)",
   "language": "python",
   "name": "python3"
  },
  "language_info": {
   "codemirror_mode": {
    "name": "ipython",
    "version": 3
   },
   "file_extension": ".py",
   "mimetype": "text/x-python",
   "name": "python",
   "nbconvert_exporter": "python",
   "pygments_lexer": "ipython3",
   "version": "3.10.5"
  },
  "orig_nbformat": 4,
  "vscode": {
   "interpreter": {
    "hash": "29a5d830ee5eb5eabdb10511c29aaced43bbb583532fb9ecb44e50060afee3b8"
   }
  }
 },
 "nbformat": 4,
 "nbformat_minor": 2
}
