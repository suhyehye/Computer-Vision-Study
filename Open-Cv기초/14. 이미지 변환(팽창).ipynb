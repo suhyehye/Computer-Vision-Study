{
 "cells": [
  {
   "cell_type": "markdown",
   "metadata": {},
   "source": [
    "## 이미지 변환(팽창)"
   ]
  },
  {
   "cell_type": "markdown",
   "metadata": {},
   "source": [
    "### 이미지를 확장하여 작은 구멍을 채움\n",
    "\n",
    "흰색 영역의 외곽 픽셀 주변에 흰색을 추가 (이미지가 커지면서 구멍이 작아짐)"
   ]
  },
  {
   "cell_type": "code",
   "execution_count": 3,
   "metadata": {},
   "outputs": [],
   "source": [
    "import cv2\n",
    "import numpy as np\n",
    "\n",
    "kernel = np.ones((3,3),dtype = np.uint8)\n",
    "# kernel\n",
    "\n",
    "img = cv2.imread('dilate.png',cv2.IMREAD_GRAYSCALE)\n",
    "dilate1 = cv2.dilate(img, kernel, iterations=1) # 반복 횟수\n",
    "dilate2 = cv2.dilate(img, kernel, iterations=2) # 반복 횟수\n",
    "dilate3 = cv2.dilate(img, kernel, iterations=3) # 반복 횟수\n",
    "\n",
    "\n",
    "cv2.imshow('gray',img)\n",
    "cv2.imshow('dilate1',dilate1)\n",
    "cv2.imshow('dilate2',dilate2)\n",
    "cv2.imshow('dilate3',dilate3)\n",
    "\n",
    "cv2.waitKey(0)\n",
    "cv2.destroyAllWindows()"
   ]
  },
  {
   "cell_type": "code",
   "execution_count": null,
   "metadata": {},
   "outputs": [],
   "source": []
  }
 ],
 "metadata": {
  "kernelspec": {
   "display_name": "Python 3.10.5 64-bit (windows store)",
   "language": "python",
   "name": "python3"
  },
  "language_info": {
   "codemirror_mode": {
    "name": "ipython",
    "version": 3
   },
   "file_extension": ".py",
   "mimetype": "text/x-python",
   "name": "python",
   "nbconvert_exporter": "python",
   "pygments_lexer": "ipython3",
   "version": "3.10.5"
  },
  "orig_nbformat": 4,
  "vscode": {
   "interpreter": {
    "hash": "29a5d830ee5eb5eabdb10511c29aaced43bbb583532fb9ecb44e50060afee3b8"
   }
  }
 },
 "nbformat": 4,
 "nbformat_minor": 2
}
