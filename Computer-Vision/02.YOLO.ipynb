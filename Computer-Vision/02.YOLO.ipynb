{
 "cells": [
  {
   "cell_type": "markdown",
   "metadata": {},
   "source": [
    "#### 객체 탐지 (Object Detection)\n",
    "- 한 이미지에서 객체와 그 경계 상자 (bounding box)를 탐지\n",
    "- 객체 탐지 알고리즘은 일반적으로 이미지를 입력으로 받고, 경계 상자와 객체 클래스 리스트를 출력\n",
    "- 경계 상자에 대해 그에 대응하는 예측 클래스와 클래스의 신뢰도 (confidence)를 출력\n",
    "\n",
    "#### Applications\n",
    "- 자율 주행 자동차에서 다른 자동차와 보행자를 찾을 때\n",
    "- 의료 분야엣 방사선 사진을 이용하여 종양이나 위험한 조직을 찾을 때\n",
    "- 제조업에서 조립 로봇이 제품을 조립하거나 수리할 때\n",
    "- 보안 산업에서 위협을 탐지하거나 사람 수를 셀 때\n",
    "\n",
    "#### Bounding Box\n",
    "- 이미지에서 하나의 객체 전체를 포함하는 가장 작은 직사각형\n",
    "\n",
    "#### IOU(Intersection Over Union)\n",
    "- 실측값 (ground truth)과 모델이 예측한 값이 얼마나 겹치는지를 나타내는 지표\n",
    "- IOU가 높을 수록 잘 예측한 모델\n",
    "\n",
    "#### NMS(Non-Maximum Suppression, 비최댓값 억제)\n",
    "- 확률이 가장 높은 상자와 겹치는 상자들을 제거하는 과정\n",
    "- 최댓값을 갖지 않는 상자들을 제거\n",
    "- 과정\n",
    "    1. 확률 기준으로 모든 상자를 정렬하고 가장 높은 확률이 높은 상자를 취함\n",
    "    2. 각 상자에 대해 다른 모든 상자와의 IOU를 계산\n",
    "    3. 특정 임곗값을 넘는 상자는 제거\n",
    "\n",
    "\n",
    "#### 모델 성능 평가 \n",
    ": 일반적으로 객체 탐지 모델에 사용되지는 않지만 다른 지표를 계산하는 기보 지표 역할 (정밀도, 정확도 등)\n",
    "\n",
    "#### 정밀도-재현율 곡선\n",
    "- 신뢰도 임계값마다 모델의 정밀도와 재현율을 시각화\n",
    "- 모든 바운딩 박스와 함께 모델의 정확성을 얼마나 확실히 하는지 0~1사이의 숫자로 나타내는 신뢰도 출력\n",
    "\n",
    "#### AP (평균 정밀도)와 mAP (mean Average Precision)\n",
    "- 곡선의 아래 영역에 해당\n",
    "- 항상 1 * 1 정사각형으로 구성 (항상 0-1사이의 값)\n",
    "- 단일 클래스에 대한 정보\n",
    "- 전역 전부를 받기 위해 mAP \n",
    "- 예를 들어 데이터셋이 10개의 클래스로 구성된다면 각 클래스에 대한 AP를 계산하고 그 숫자의 평균을 다시 구함\n",
    "\n",
    "\n",
    "#### VOC Dataset\n",
    "- 20개의 클래스가 존재 \n",
    "- ROI에 대한 27450개의 Annotation 존재\n",
    "- 이미지 당 2.4개의 객체 존재\n",
    "\n",
    "\n",
    "#### COCO Dataset\n",
    "- Common Objects in Context\n",
    "- 200,000개의 이미지\n",
    "- 80개의 카테고리에 500,000 이상의 객체 Annotation 존재\n",
    "- https://cocodatset.org/\n",
    "\n",
    "\n"
   ]
  },
  {
   "cell_type": "code",
   "execution_count": null,
   "metadata": {},
   "outputs": [],
   "source": []
  }
 ],
 "metadata": {
  "kernelspec": {
   "display_name": "Python 3.10.7 64-bit",
   "language": "python",
   "name": "python3"
  },
  "language_info": {
   "name": "python",
   "version": "3.10.7"
  },
  "orig_nbformat": 4,
  "vscode": {
   "interpreter": {
    "hash": "aee8b7b246df8f9039afb4144a1f6fd8d2ca17a180786b69acc140d282b71a49"
   }
  }
 },
 "nbformat": 4,
 "nbformat_minor": 2
}
