{
 "cells": [
  {
   "cell_type": "markdown",
   "metadata": {},
   "source": [
    "#### 객체 탐지 (Object Detection)\n",
    "- 한 이미지에서 객체와 그 경계 상자 (bounding box)를 탐지\n",
    "- 객체 탐지 알고리즘은 일반적으로 이미지를 입력으로 받고, 경계 상자와 객체 클래스 리스트를 출력\n",
    "- 경계 상자에 대해 그에 대응하는 예측 클래스와 클래스의 신뢰도 (confidence)를 출력\n",
    "\n",
    "#### Applications\n",
    "- 자율 주행 자동차에서 다른 자동차와 보행자를 찾을 때\n",
    "- 의료 분야엣 방사선 사진을 이용하여 종양이나 위험한 조직을 찾을 때\n",
    "- 제조업에서 조립 로봇이 제품을 조립하거나 수리할 때\n",
    "- 보안 산업에서 위협을 탐지하거나 사람 수를 셀 때\n",
    "\n",
    "#### Bounding Box\n",
    "- 이미지에서 하나의 객체 전체를 포함하는 가장 작은 직사각형\n",
    "\n",
    "#### IOU(Intersection Over Union)\n",
    "- 실측값 (ground truth)과 모델이 예측한 값이 얼마나 겹치는지를 나타내는 지표\n",
    "- IOU가 높을 수록 잘 예측한 모델\n",
    "\n",
    "#### NMS(Non-Maximum Suppression, 비최댓값 억제)\n",
    "- 확률이 가장 높은 상자와 겹치는 상자들을 제거하는 과정\n",
    "- 최댓값을 갖지 않는 상자들을 제거\n",
    "- 과정\n",
    "    1. 확률 기준으로 모든 상자를 정렬하고 가장 높은 확률이 높은 상자를 취함\n",
    "    2. 각 상자에 대해 다른 모든 상자와의 IOU를 계산\n",
    "    3. 특정 임곗값을 넘는 상자는 제거\n",
    "\n",
    "\n",
    "#### 모델 성능 평가 "
   ]
  },
  {
   "cell_type": "code",
   "execution_count": null,
   "metadata": {},
   "outputs": [],
   "source": []
  }
 ],
 "metadata": {
  "language_info": {
   "name": "python"
  },
  "orig_nbformat": 4
 },
 "nbformat": 4,
 "nbformat_minor": 2
}
